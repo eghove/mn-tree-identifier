{
  "nbformat": 4,
  "nbformat_minor": 0,
  "metadata": {
    "colab": {
      "name": "MN-native-tree-id.ipynb",
      "provenance": [],
      "include_colab_link": true
    },
    "kernelspec": {
      "name": "python3",
      "display_name": "Python 3"
    }
  },
  "cells": [
    {
      "cell_type": "markdown",
      "metadata": {
        "id": "view-in-github",
        "colab_type": "text"
      },
      "source": [
        "<a href=\"https://colab.research.google.com/github/eghove/mn-tree-identifier/blob/master/MN_native_tree_id.ipynb\" target=\"_parent\"><img src=\"https://colab.research.google.com/assets/colab-badge.svg\" alt=\"Open In Colab\"/></a>"
      ]
    },
    {
      "cell_type": "markdown",
      "metadata": {
        "id": "p22z06XeOdxR",
        "colab_type": "text"
      },
      "source": [
        "# MN Native Tree Species Classifier/Identifier\n",
        "Objective is to create a model that can identify MN native trees using photos of leaves/needles/fruit."
      ]
    },
    {
      "cell_type": "markdown",
      "metadata": {
        "id": "hN8zGSJKOu4j",
        "colab_type": "text"
      },
      "source": [
        "## Project Plan\n",
        "\n",
        "\n",
        "1.   Figure out how many types of native tree species there are in Minnesota\n",
        "2.   Create a dataset for each of these species\n",
        "3. Train Model (using ResNet)\n",
        "\n",
        "\n",
        "\n"
      ]
    },
    {
      "cell_type": "markdown",
      "metadata": {
        "id": "fB6YEJYJPmzC",
        "colab_type": "text"
      },
      "source": [
        "## Figure out how many types of native tree species there are in Minnesota\n",
        "\n",
        "Minnesota is home to 52 native tree species per https://www.dnr.state.mn.us/trees/index.html"
      ]
    },
    {
      "cell_type": "markdown",
      "metadata": {
        "id": "4Z5xHOwyQXDP",
        "colab_type": "text"
      },
      "source": [
        "Coniferous\n",
        " \n",
        "* Cedar\n",
        "* Red cedar (juniper)\n",
        "* White cedar\n",
        "* Balsam fir\n",
        "* Hemlock\n",
        "* Pine\n",
        "* White pine\n",
        "* Jack pine\n",
        "* Red pine (Norway pine)\n",
        "* Spruce\n",
        "* Black spruce\n",
        "* White spruce\n",
        "* Tamarack (eastern or American larch)\n",
        "\n",
        "\n"
      ]
    },
    {
      "cell_type": "markdown",
      "metadata": {
        "id": "VwrODSolQ6k2",
        "colab_type": "text"
      },
      "source": [
        "Deciduous\n",
        " \n",
        "* American mountain ash\n",
        "*Black ash\n",
        "*Green ash (red ash)\n",
        "*White ash\n",
        "*American basswood\n",
        "*Paper birch\n",
        "*River birch\n",
        "*Yellow birch\n",
        "*Black walnut\n",
        "*Box elder\n",
        "*Butternut\n",
        "*Blue beech\n",
        "*Black cherry\n",
        "*Pin cherry\n",
        "*American elm\n",
        "*Rock elm\n",
        "*Slippery elm (red elm)\n",
        "*Hackberry\n",
        "*Bitternut hickory\n",
        "*Shagbark hickory\n",
        "*Honeylocust\n",
        "*Ironwood\n",
        "*Kentucky coffeetree\n",
        "*Black maple\n",
        "*Mountain maple\n",
        "*Red maple\n",
        "*Silver maple\n",
        "*Sugar maple\n",
        "*Northern mountain ash (showy mountain ash)\n",
        "*Red mulberry\n",
        "*Black oak\n",
        "*Bur oak\n",
        "*Chinkapin oak\n",
        "*Northern pin oak (Jack oak, Hill oak)\n",
        "*Red oak\n",
        "*Swamp white oak\n",
        "*White oak\n",
        "*Balsam poplar\n",
        "*Bigtooth aspen (largetooth aspen, poplar, popple)\n",
        "*Cottonwood\n",
        "*Quaking aspen (trembling aspen, poplar, popple)\n",
        "*Peachleaf Willow\n",
        "*Black Willow"
      ]
    },
    {
      "cell_type": "markdown",
      "metadata": {
        "id": "JxGaVMk6UqaL",
        "colab_type": "text"
      },
      "source": [
        "## Create a dataset for each of these species\n",
        "\n",
        "Use Google image search and this tutorial to build my own datasets: https://github.com/fastai/course-v3/blob/master/nbs/dl1/lesson2-download.ipynb\n",
        "\n",
        "So essentially we'll have 52 csv files of urls to images. Ideally, I want 150 of leaf/needle and 150 of fruit/seed/cone for each species."
      ]
    },
    {
      "cell_type": "code",
      "metadata": {
        "id": "IcrRFdW2OaL9",
        "colab_type": "code",
        "colab": {}
      },
      "source": [
        ""
      ],
      "execution_count": 0,
      "outputs": []
    }
  ]
}